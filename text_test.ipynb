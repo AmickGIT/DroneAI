{
 "cells": [
  {
   "cell_type": "code",
   "execution_count": 3,
   "metadata": {},
   "outputs": [],
   "source": [
    "import google.generativeai as genai"
   ]
  },
  {
   "cell_type": "code",
   "execution_count": null,
   "metadata": {},
   "outputs": [],
   "source": [
    "model = genai.GenerativeModel(\"gemini-1.5-flash\")"
   ]
  },
  {
   "cell_type": "code",
   "execution_count": 32,
   "metadata": {},
   "outputs": [
    {
     "name": "stdout",
     "output_type": "stream",
     "text": [
      "acclerate right\n"
     ]
    }
   ],
   "source": [
    "text = input(\"Enter voice line:\")\n",
    "print(text)"
   ]
  },
  {
   "cell_type": "code",
   "execution_count": 33,
   "metadata": {},
   "outputs": [],
   "source": [
    "response = model.generate_content(f\"\"\"Interpret \"{text}\" in the context of commands for drone control.\n",
    "                                              Rules:0. The vaild directions are: [up, down, left, right , front, back] and all possible combinations taking 2 at a time.\n",
    "                                                    1. Anything related to 'fast'/'quick'/'acclerate' add the suffix 'and acclerating' after the direction\n",
    "                                                    2. \"constant speed\" is the default suffix is words related to \"fast\" or \"slow\" are not present\n",
    "                                                    3. Anything related to 'braking'/'slow' respond with 'STOP' only\n",
    "                                                    4. If there are multiple interpretations, respond with the last one.\n",
    "                                                    5. If the text is not related to a command, ex:\"but\",\"or\" respond with 'no action' only\n",
    "                                                    6. If \"move\" or \"go\" then respond with 'front and constant speed'\n",
    "                                                    7. If \"quickly\" then respond with 'front and acclerating' \n",
    "                                                    8. If the directions are opposite, ex: \"left right quickly\" or \"up down\" or \"left right\" respond with 'no action'\n",
    "                                                    9. Never respond with reasoning\n",
    "                                                    10. For actions like 'do a back flip' respond with no action\n",
    "                                                    11. \"Forwards\" or \"backwards\" is equivalent to \"front\" and \"back\"\n",
    "                                                    12. Words like forward or bottom are equivalent to \"front\" and \"down\" respectively.\n",
    "                                                    13. Words like \"dawn\", \"don\", \"town\" mean \"down\"\n",
    "                                                    14. Words like \"love\" mean \"left\"\n",
    "                                                    15. Treat \"right\" as a direction only\n",
    "                                                    16. Do not focus on irrelevant or ambiguous words or phrases like [switch, but] etc\n",
    "                                               Example: If 'go right' then respond with \"right and constant speed\"\n",
    "                                                        If 'go quickly to left' respond with \"left and acclerating\"\n",
    "                                                        If 'down right' then respond with 'down right and constant speed'\n",
    "                                                        If 'brake' then respond with \"STOP\"\n",
    "                                                        If 'go left and right' respond in context to the latest words, that is \"right and constant speed\"\n",
    "                                                        If 'forward' then respond with 'front and constant speed'\n",
    "                                                        If 'back slowly' respond with 'STOP'\n",
    "                                                      If 'forward down' respond with 'front down and constant speed'\n",
    "                                                        If 'back right quickly' respond with \"Back right and acclerating\"\n",
    "                                                        If 'up' respond with \"up and constant speed\"\n",
    "                                                        If 'bottom' respond with 'down and constant speed'\n",
    "                                                        If 'Up bottom quickly' respond with 'no action' as they are opposite directions.\n",
    "                                               \"\"\")"
   ]
  },
  {
   "cell_type": "code",
   "execution_count": 34,
   "metadata": {},
   "outputs": [
    {
     "name": "stdout",
     "output_type": "stream",
     "text": [
      "right and accelerating\n",
      "\n"
     ]
    }
   ],
   "source": [
    "print(response.text)"
   ]
  },
  {
   "cell_type": "code",
   "execution_count": 36,
   "metadata": {},
   "outputs": [
    {
     "name": "stdout",
     "output_type": "stream",
     "text": [
      "\n"
     ]
    }
   ],
   "source": [
    "statement = input(\"Enter statement\")\n",
    "print(statement)"
   ]
  },
  {
   "cell_type": "code",
   "execution_count": 37,
   "metadata": {},
   "outputs": [
    {
     "name": "stdout",
     "output_type": "stream",
     "text": [
      "0\n",
      "\n"
     ]
    }
   ],
   "source": [
    "response = model.generate_content(f\"\"\"\n",
    "                                  Respond with '1' if \"{statement}\" explicitly implies \"switch\", that is a change between gesture and voice control \n",
    "                                  for drones, and '0' otherwise. Ignore directional words and ambiguous terms. \n",
    "                                  Do not explain the rules or add commentary—just respond with '1' or '0' directly. Respond\n",
    "                                  with '0' is the text does not contain the word \"switch\" or its tenses like \"switching\", \"switched\". \n",
    "                                  Search only for the tenses of \"switch\".\n",
    "                                  \n",
    "                                  Example:\n",
    "                                  If 'right' then respond with '0' because right is a directional word and doesn't imply switching\"\n",
    "                                  If 'that works' then respond with '0' because 'that' works doesn't explicitly mean switching\n",
    "                                  If 'switch' then respond with '1' as switch explicitly means switching\n",
    "                                  If 'don't switch' then respond with '0' as don't switch means not switching\n",
    "                                  If 'go to gesture control' respond with '0' as the word 'switch' is not present\n",
    "                                  If 'switched' then respond with '1' because it containds words related to 'switch' that is 'switched'\"\"\")\n",
    "\n",
    "print(response.text)"
   ]
  },
  {
   "cell_type": "code",
   "execution_count": null,
   "metadata": {},
   "outputs": [],
   "source": []
  }
 ],
 "metadata": {
  "kernelspec": {
   "display_name": "Python 3",
   "language": "python",
   "name": "python3"
  },
  "language_info": {
   "codemirror_mode": {
    "name": "ipython",
    "version": 3
   },
   "file_extension": ".py",
   "mimetype": "text/x-python",
   "name": "python",
   "nbconvert_exporter": "python",
   "pygments_lexer": "ipython3",
   "version": "3.12.5"
  }
 },
 "nbformat": 4,
 "nbformat_minor": 2
}
